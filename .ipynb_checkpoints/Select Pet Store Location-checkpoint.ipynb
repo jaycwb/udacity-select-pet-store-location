{
 "cells": [
  {
   "cell_type": "markdown",
   "metadata": {},
   "source": [
    "#### Loading train and predictions files"
   ]
  },
  {
   "cell_type": "code",
   "execution_count": 27,
   "metadata": {
    "collapsed": true
   },
   "outputs": [],
   "source": [
    "import pandas as pd\n",
    "import numpy as np\n",
    "from IPython.display import display\n",
    "import matplotlib.pyplot as plt\n",
    "%matplotlib inline\n",
    "\n",
    "df_train = pd.read_csv(\"train_with_gillette.csv\")\n",
    "df_predictions = pd.read_csv(\"predictions.csv\")\n",
    "\n",
    "### dropping unnamed att\n",
    "df_train.drop('Unnamed: 0', axis = 1, inplace = True)\n",
    "df_predictions.drop('Unnamed: 0', axis = 1, inplace = True)\n",
    "\n",
    "### The city name should lead to bias, so let's remove it, but keep them for further analysis\n",
    "citiesWithStores = df_train['CITY'].to_frame()\n",
    "cityNamesPredictions = df_predictions['CITY'].to_frame()\n",
    "df_train.drop('CITY', axis = 1, inplace = True)\n",
    "df_predictions.drop('CITY', axis = 1, inplace = True)\n",
    "\n",
    "\n"
   ]
  },
  {
   "cell_type": "code",
   "execution_count": 28,
   "metadata": {
    "collapsed": false
   },
   "outputs": [],
   "source": [
    "### just to be sure\n",
    "# display(df_train.head())\n",
    "# display(df_predictions.head())\n",
    "# display(cityNamesPredictions.head())"
   ]
  },
  {
   "cell_type": "markdown",
   "metadata": {},
   "source": [
    "#### Looking at the distribution"
   ]
  },
  {
   "cell_type": "code",
   "execution_count": 29,
   "metadata": {
    "collapsed": false
   },
   "outputs": [],
   "source": [
    "# df_train.drop('Land Area',axis=1,inplace=True)\n",
    "# df_predictions.drop('Land Area',axis=1,inplace=True)\n",
    "# pd.scatter_matrix(df_train, alpha = 0.3, figsize = (14,8), diagonal = 'kde');\n",
    "# pd.scatter_matrix(df_predictions, alpha = 0.3, figsize = (14,8), diagonal = 'kde');"
   ]
  },
  {
   "cell_type": "markdown",
   "metadata": {},
   "source": [
    "#### Scatterplots for each variable against the number of sales"
   ]
  },
  {
   "cell_type": "code",
   "execution_count": 30,
   "metadata": {
    "collapsed": false
   },
   "outputs": [],
   "source": [
    "# totalSalesAtt = 'Total Pawdacity Sales'\n",
    "# for att in df_train.columns.values:\n",
    "#     if att != totalSalesAtt:\n",
    "#         z = np.polyfit(x=df_train[att], y=df_train[totalSalesAtt], deg=1)\n",
    "#         p = np.poly1d(z)\n",
    "#         trendline = p(df_train)\n",
    "#         print trendline"
   ]
  },
  {
   "cell_type": "markdown",
   "metadata": {},
   "source": [
    "#### Looking for correlation amongst the variables"
   ]
  },
  {
   "cell_type": "code",
   "execution_count": 31,
   "metadata": {
    "collapsed": false
   },
   "outputs": [
    {
     "data": {
      "text/html": [
       "<div>\n",
       "<table border=\"1\" class=\"dataframe\">\n",
       "  <thead>\n",
       "    <tr style=\"text-align: right;\">\n",
       "      <th></th>\n",
       "      <th>2010 Census</th>\n",
       "      <th>Land Area</th>\n",
       "      <th>Households with Under 18</th>\n",
       "      <th>Population Density</th>\n",
       "      <th>Total Families</th>\n",
       "      <th>Total Pawdacity Sales</th>\n",
       "    </tr>\n",
       "  </thead>\n",
       "  <tbody>\n",
       "    <tr>\n",
       "      <th>2010 Census</th>\n",
       "      <td>1.000000</td>\n",
       "      <td>0.202067</td>\n",
       "      <td>0.941359</td>\n",
       "      <td>0.788912</td>\n",
       "      <td>0.917801</td>\n",
       "      <td>0.682255</td>\n",
       "    </tr>\n",
       "    <tr>\n",
       "      <th>Land Area</th>\n",
       "      <td>0.202067</td>\n",
       "      <td>1.000000</td>\n",
       "      <td>0.420968</td>\n",
       "      <td>0.004001</td>\n",
       "      <td>0.418292</td>\n",
       "      <td>0.079415</td>\n",
       "    </tr>\n",
       "    <tr>\n",
       "      <th>Households with Under 18</th>\n",
       "      <td>0.941359</td>\n",
       "      <td>0.420968</td>\n",
       "      <td>1.000000</td>\n",
       "      <td>0.771860</td>\n",
       "      <td>0.911990</td>\n",
       "      <td>0.493491</td>\n",
       "    </tr>\n",
       "    <tr>\n",
       "      <th>Population Density</th>\n",
       "      <td>0.788912</td>\n",
       "      <td>0.004001</td>\n",
       "      <td>0.771860</td>\n",
       "      <td>1.000000</td>\n",
       "      <td>0.685433</td>\n",
       "      <td>0.486034</td>\n",
       "    </tr>\n",
       "    <tr>\n",
       "      <th>Total Families</th>\n",
       "      <td>0.917801</td>\n",
       "      <td>0.418292</td>\n",
       "      <td>0.911990</td>\n",
       "      <td>0.685433</td>\n",
       "      <td>1.000000</td>\n",
       "      <td>0.606820</td>\n",
       "    </tr>\n",
       "    <tr>\n",
       "      <th>Total Pawdacity Sales</th>\n",
       "      <td>0.682255</td>\n",
       "      <td>0.079415</td>\n",
       "      <td>0.493491</td>\n",
       "      <td>0.486034</td>\n",
       "      <td>0.606820</td>\n",
       "      <td>1.000000</td>\n",
       "    </tr>\n",
       "  </tbody>\n",
       "</table>\n",
       "</div>"
      ],
      "text/plain": [
       "                          2010 Census  Land Area  Households with Under 18  \\\n",
       "2010 Census                  1.000000   0.202067                  0.941359   \n",
       "Land Area                    0.202067   1.000000                  0.420968   \n",
       "Households with Under 18     0.941359   0.420968                  1.000000   \n",
       "Population Density           0.788912   0.004001                  0.771860   \n",
       "Total Families               0.917801   0.418292                  0.911990   \n",
       "Total Pawdacity Sales        0.682255   0.079415                  0.493491   \n",
       "\n",
       "                          Population Density  Total Families  \\\n",
       "2010 Census                         0.788912        0.917801   \n",
       "Land Area                           0.004001        0.418292   \n",
       "Households with Under 18            0.771860        0.911990   \n",
       "Population Density                  1.000000        0.685433   \n",
       "Total Families                      0.685433        1.000000   \n",
       "Total Pawdacity Sales               0.486034        0.606820   \n",
       "\n",
       "                          Total Pawdacity Sales  \n",
       "2010 Census                            0.682255  \n",
       "Land Area                              0.079415  \n",
       "Households with Under 18               0.493491  \n",
       "Population Density                     0.486034  \n",
       "Total Families                         0.606820  \n",
       "Total Pawdacity Sales                  1.000000  "
      ]
     },
     "metadata": {},
     "output_type": "display_data"
    },
    {
     "data": {
      "text/plain": [
       "<matplotlib.axes.AxesSubplot at 0x10f724290>"
      ]
     },
     "execution_count": 31,
     "metadata": {},
     "output_type": "execute_result"
    },
    {
     "data": {
      "image/png": "[encoded data removed]",
      "text/plain": [
       "<matplotlib.figure.Figure at 0x10ebc6610>"
      ]
     },
     "metadata": {},
     "output_type": "display_data"
    }
   ],
   "source": [
    "toRemoveCorrelation = []\n",
    "df_correlation = df_train.copy()\n",
    "df_correlation = df_correlation.corr().abs()\n",
    "\n",
    "display(df_correlation)\n",
    "\n",
    "#### PLOTS THIS AS A HEATMAP\n",
    "import seaborn as sns\n",
    "sns.heatmap(df_correlation,\n",
    "            xticklabels=df_correlation.columns.values,\n",
    "            yticklabels=df_correlation.columns.values)"
   ]
  },
  {
   "cell_type": "code",
   "execution_count": 32,
   "metadata": {
    "collapsed": false
   },
   "outputs": [
    {
     "name": "stdout",
     "output_type": "stream",
     "text": [
      "best score = 0.78326507986, obtained using ['2010 Census', 'Land Area', 'Households with Under 18', 'Population Density', 'Total Families']\n"
     ]
    }
   ],
   "source": [
    "### Breaking data down into X and Y\n",
    "X = df_train.drop('Total Pawdacity Sales', axis = 1)\n",
    "Y = df_train['Total Pawdacity Sales']\n",
    "\n",
    "\n",
    "\n",
    "# from sklearn.linear_model import LassoLars\n",
    "# reg = LassoLars(alpha=0.001, copy_X=True, fit_intercept=True,\n",
    "#      fit_path=True, max_iter=5000, normalize=True, positive=False,\n",
    "#      precompute='auto', verbose=False)\n",
    "# reg.fit(X, Y)\n",
    "# predictions = reg.predict(X)\n",
    "# r2score = r2_score(predictions, Y)\n",
    "# print \"r2 = {}\".format(r2score)\n",
    "# print \"coefs = {}\".format(reg.coef_)\n",
    "\n",
    "# from sklearn.metrics import r2_score\n",
    "# from sklearn.linear_model import LinearRegression\n",
    "\n",
    "# redundants = ['Households with Under 18', 'Population Density', 'Total Families', '2010 Census']\n",
    "# bestSubset = []\n",
    "# bestR2 = -999\n",
    "# for att in redundants:\n",
    "#     atts = ['Land Area']\n",
    "#     atts.append(att)\n",
    "#     reg = LinearRegression(fit_intercept=True)\n",
    "#     reg.fit(X[atts], Y)\n",
    "#     predictions_train = reg.predict(X[atts])\n",
    "#     r2score = r2_score(predictions_train, Y)\n",
    "#     if r2score > bestR2:\n",
    "#         bestSubset = atts\n",
    "#         bestR2 = r2score\n",
    "\n",
    "# print \"best score = {}, obtained using {}\".format(bestR2, bestSubset)\n",
    "\n",
    "\n",
    "### SELECTING FEATURES\n",
    "from sklearn.metrics import r2_score\n",
    "def powerset(s):\n",
    "    sets = []\n",
    "    x = len(s)\n",
    "    for i in range(1 << x):\n",
    "        sets.append([s[j] for j in range(x) if (i & (1 << j))])\n",
    "    return sets\n",
    "\n",
    "from sklearn.linear_model import LinearRegression\n",
    "from sklearn.model_selection import cross_val_score\n",
    "from sklearn import metrics\n",
    "from sklearn.metrics import explained_variance_score\n",
    "bestR2 = -99999\n",
    "bestSubset = []\n",
    "allAtts = []\n",
    "for att in X.columns.values:\n",
    "    if att != \"Total Pawdacity Sales\":\n",
    "        allAtts.append(att)\n",
    "allSets = powerset(X.columns.values)\n",
    "for attSet in allSets:\n",
    "    if len(attSet) > 0:\n",
    "        reg = LinearRegression(fit_intercept=True)\n",
    "#         scores = cross_val_score(reg, X[attSet], Y, scoring='r2', cv=1)\n",
    "#         r2score = scores.mean()\n",
    "        reg.fit(X[attSet], Y)\n",
    "        predictions_train = reg.predict(X[attSet])        \n",
    "        r2score = explained_variance_score(predictions_train, Y)\n",
    "#         r2score = r2_score(predictions_train, Y)\n",
    "        if r2score > bestR2:\n",
    "            bestSubset = attSet\n",
    "            bestR2 = r2score\n",
    "\n",
    "print \"best score = {}, obtained using {}\".format(bestR2, bestSubset)\n",
    "\n",
    "\n",
    "\n",
    "\n",
    "\n",
    "# from sklearn.feature_selection import RFE\n",
    "# reg = LinearRegression()\n",
    "# selector = RFE(reg)\n",
    "# X = selector.fit_transform(X, Y)\n",
    "# print \"{} features selected\".format(selector.n_features_)\n",
    "# print \"features selected = {} \".format(selector.support_)\n",
    "# print \"features selected = {} \".format(selector.ranking_)\n",
    "\n",
    "### Normalizing both X, and df_predictions\n",
    "# cols_to_norm = ['2010 Census','Land Area', 'Households with Under 18', 'Population Density', 'Total Families']\n",
    "# X[cols_to_norm] = X[cols_to_norm].apply(lambda x: (x - x.mean()) / (x.max() - x.min()))\n",
    "# df_predictions[cols_to_norm] = df_predictions[cols_to_norm].apply(lambda x: (x - x.mean()) / (x.max() - x.min()))\n",
    "\n",
    "\n",
    "# pd.scatter_matrix(X, alpha = 0.3, figsize = (14,8), diagonal = 'kde');\n",
    "# pd.scatter_matrix(df_predictions, alpha = 0.3, figsize = (14,8), diagonal = 'kde');"
   ]
  },
  {
   "cell_type": "code",
   "execution_count": 33,
   "metadata": {
    "collapsed": false
   },
   "outputs": [
    {
     "data": {
      "text/plain": [
       "LinearRegression(copy_X=True, fit_intercept=True, n_jobs=1, normalize=False)"
      ]
     },
     "execution_count": 33,
     "metadata": {},
     "output_type": "execute_result"
    }
   ],
   "source": [
    "#### Learning a linear model\n",
    "reg = LinearRegression(fit_intercept = True)\n",
    "# reg = LinearRegression()\n",
    "reg.fit(X[bestSubset], Y)"
   ]
  },
  {
   "cell_type": "markdown",
   "metadata": {},
   "source": [
    "#### Compute the r^2 value"
   ]
  },
  {
   "cell_type": "code",
   "execution_count": 34,
   "metadata": {
    "collapsed": false
   },
   "outputs": [
    {
     "name": "stdout",
     "output_type": "stream",
     "text": [
      "2010 Census has a p-value of 0.0297405639802\n",
      "Land Area has a p-value of 0.827370746068\n",
      "Households with Under 18 has a p-value of 0.147198735719\n",
      "Population Density has a p-value of 0.154362637486\n",
      "Total Families has a p-value of 0.062851610687\n",
      "\n",
      "\tThe r2 score obtained during training is 0.78327\n"
     ]
    }
   ],
   "source": [
    "from sklearn.feature_selection import f_regression\n",
    "_, pvalues = f_regression(X[bestSubset], Y)\n",
    "index = 0\n",
    "for attribute in X[bestSubset].columns.values:\n",
    "    pval = pvalues[index]\n",
    "    print \"{} has a p-value of {}\".format(attribute, pval)\n",
    "    index = index + 1\n",
    "\n",
    "\n",
    "\n",
    "predictions_train = reg.predict(X[bestSubset])\n",
    "r2score = r2_score(predictions_train, Y)\n",
    "print \"\\n\\tThe r2 score obtained during training is {:.5f}\".format(r2score)\n",
    "# for att in X.columns.values:\n",
    "#     r2_var = r2_score(X[att], Y)\n",
    "#     pval = 0.0\n",
    "#     print \"{} has a r2 score of {:.5f} and a p-value of {}\".format(att, r2_var, pval)"
   ]
  },
  {
   "cell_type": "markdown",
   "metadata": {},
   "source": [
    "#### Printing out the equation"
   ]
  },
  {
   "cell_type": "code",
   "execution_count": 35,
   "metadata": {
    "collapsed": false
   },
   "outputs": [
    {
     "name": "stdout",
     "output_type": "stream",
     "text": [
      "Y = 29.94 * 2010 Census + 69.68 * Land Area + -130.33 * Households with Under 18 + 10815.95 * Population Density + -10.96 * Total Families + -12459.48\n"
     ]
    }
   ],
   "source": [
    "indexCoef = 0\n",
    "coefficients = reg.coef_\n",
    "finalEquation = \"Y = \"\n",
    "for attribute in X[bestSubset].columns.values:\n",
    "    coef = coefficients[indexCoef]\n",
    "    finalEquation = finalEquation + \"{:0.2f} * {} + \".format(float(coef), attribute)\n",
    "    indexCoef = indexCoef + 1\n",
    "finalEquation = finalEquation + \"{0:.2f}\".format(float(reg.intercept_))\n",
    "print finalEquation"
   ]
  },
  {
   "cell_type": "markdown",
   "metadata": {},
   "source": [
    "#### Applying the model to the predictions file"
   ]
  },
  {
   "cell_type": "code",
   "execution_count": 36,
   "metadata": {
    "collapsed": false
   },
   "outputs": [
    {
     "data": {
      "text/html": [
       "<div>\n",
       "<table border=\"1\" class=\"dataframe\">\n",
       "  <thead>\n",
       "    <tr style=\"text-align: right;\">\n",
       "      <th></th>\n",
       "      <th>CITY</th>\n",
       "      <th>Predictions</th>\n",
       "    </tr>\n",
       "  </thead>\n",
       "  <tbody>\n",
       "    <tr>\n",
       "      <th>0</th>\n",
       "      <td>Afton</td>\n",
       "      <td>38125.425816</td>\n",
       "    </tr>\n",
       "    <tr>\n",
       "      <th>1</th>\n",
       "      <td>Albin</td>\n",
       "      <td>-11066.396460</td>\n",
       "    </tr>\n",
       "    <tr>\n",
       "      <th>2</th>\n",
       "      <td>Alpine</td>\n",
       "      <td>9543.057925</td>\n",
       "    </tr>\n",
       "    <tr>\n",
       "      <th>3</th>\n",
       "      <td>Baggs</td>\n",
       "      <td>9507.126356</td>\n",
       "    </tr>\n",
       "    <tr>\n",
       "      <th>4</th>\n",
       "      <td>Bairoil</td>\n",
       "      <td>-9840.532612</td>\n",
       "    </tr>\n",
       "  </tbody>\n",
       "</table>\n",
       "</div>"
      ],
      "text/plain": [
       "      CITY   Predictions\n",
       "0    Afton  38125.425816\n",
       "1    Albin -11066.396460\n",
       "2   Alpine   9543.057925\n",
       "3    Baggs   9507.126356\n",
       "4  Bairoil  -9840.532612"
      ]
     },
     "metadata": {},
     "output_type": "display_data"
    }
   ],
   "source": [
    "predictions = reg.predict(df_predictions[bestSubset])\n",
    "# print predictions.shape\n",
    "# print cityNamesPredictions.shape\n",
    "# print type(predictions)\n",
    "# print type(cityNamesPredictions)\n",
    "cityNamesPredictions['Predictions'] = predictions\n",
    "# print cityNamesPredictions.shape\n",
    "display(cityNamesPredictions.head())"
   ]
  },
  {
   "cell_type": "markdown",
   "metadata": {},
   "source": [
    "#### Filtering results given project criteria"
   ]
  },
  {
   "cell_type": "markdown",
   "metadata": {},
   "source": [
    "1. The new store should be located in a new city. That means there should be no existing stores in the new city.\n",
    "2. The total sales for the entire competition in the new city should be less than 500,000\n",
    "\n",
    "3. The new city where you want to build your new store must have a population over 4,000 people (based upon the 2014 US Census estimate).\n",
    "\n",
    "4. The predicted yearly sales must be over 200,000.\n",
    "\n",
    "5. The city chosen has the highest predicted sales from the predicted set."
   ]
  },
  {
   "cell_type": "code",
   "execution_count": 37,
   "metadata": {
    "collapsed": false
   },
   "outputs": [
    {
     "data": {
      "text/html": [
       "<div>\n",
       "<table border=\"1\" class=\"dataframe\">\n",
       "  <thead>\n",
       "    <tr style=\"text-align: right;\">\n",
       "      <th></th>\n",
       "      <th>CITY</th>\n",
       "      <th>Land Area</th>\n",
       "      <th>Households with Under 18</th>\n",
       "      <th>Population Density</th>\n",
       "      <th>Total Families</th>\n",
       "      <th>2014 Estimate</th>\n",
       "      <th>2010 Census</th>\n",
       "      <th>SALES VOLUME</th>\n",
       "      <th>Predictions</th>\n",
       "    </tr>\n",
       "  </thead>\n",
       "  <tbody>\n",
       "    <tr>\n",
       "      <th>2</th>\n",
       "      <td>Alpine</td>\n",
       "      <td>366.598892</td>\n",
       "      <td>213</td>\n",
       "      <td>0.40</td>\n",
       "      <td>446.72</td>\n",
       "      <td>845</td>\n",
       "      <td>828</td>\n",
       "      <td>70000</td>\n",
       "      <td>9543.057925</td>\n",
       "    </tr>\n",
       "    <tr>\n",
       "      <th>13</th>\n",
       "      <td>Casper</td>\n",
       "      <td>3894.309100</td>\n",
       "      <td>7788</td>\n",
       "      <td>11.16</td>\n",
       "      <td>8756.32</td>\n",
       "      <td>40086</td>\n",
       "      <td>35316</td>\n",
       "      <td>210000</td>\n",
       "      <td>325881.863642</td>\n",
       "    </tr>\n",
       "    <tr>\n",
       "      <th>14</th>\n",
       "      <td>Cheyenne</td>\n",
       "      <td>1500.178400</td>\n",
       "      <td>7158</td>\n",
       "      <td>20.34</td>\n",
       "      <td>14612.64</td>\n",
       "      <td>62845</td>\n",
       "      <td>59466</td>\n",
       "      <td>1021000</td>\n",
       "      <td>999270.027682</td>\n",
       "    </tr>\n",
       "    <tr>\n",
       "      <th>24</th>\n",
       "      <td>Douglas</td>\n",
       "      <td>1829.465100</td>\n",
       "      <td>832</td>\n",
       "      <td>1.46</td>\n",
       "      <td>1744.08</td>\n",
       "      <td>6423</td>\n",
       "      <td>6120</td>\n",
       "      <td>96000</td>\n",
       "      <td>186472.986406</td>\n",
       "    </tr>\n",
       "    <tr>\n",
       "      <th>25</th>\n",
       "      <td>Dubois</td>\n",
       "      <td>437.073505</td>\n",
       "      <td>244</td>\n",
       "      <td>0.21</td>\n",
       "      <td>506.29</td>\n",
       "      <td>998</td>\n",
       "      <td>971</td>\n",
       "      <td>55000</td>\n",
       "      <td>11986.528063</td>\n",
       "    </tr>\n",
       "  </tbody>\n",
       "</table>\n",
       "</div>"
      ],
      "text/plain": [
       "        CITY    Land Area  Households with Under 18  Population Density  \\\n",
       "2     Alpine   366.598892                       213                0.40   \n",
       "13    Casper  3894.309100                      7788               11.16   \n",
       "14  Cheyenne  1500.178400                      7158               20.34   \n",
       "24   Douglas  1829.465100                       832                1.46   \n",
       "25    Dubois   437.073505                       244                0.21   \n",
       "\n",
       "    Total Families  2014 Estimate  2010 Census  SALES VOLUME    Predictions  \n",
       "2           446.72            845          828         70000    9543.057925  \n",
       "13         8756.32          40086        35316        210000  325881.863642  \n",
       "14        14612.64          62845        59466       1021000  999270.027682  \n",
       "24         1744.08           6423         6120         96000  186472.986406  \n",
       "25          506.29            998          971         55000   11986.528063  "
      ]
     },
     "metadata": {},
     "output_type": "display_data"
    }
   ],
   "source": [
    "### I will need some more data here... So let's load and work on the datasets that have the info we need :)\n",
    "\n",
    "df_demographic = pd.read_csv(\"demographic_data.csv\")\n",
    "df_demographic.drop('Unnamed: 0', axis = 1, inplace = True)\n",
    "df_web_scrape = pd.read_csv(\"web_scrape.csv\")\n",
    "df_web_scrape.drop('Unnamed: 0', axis = 1, inplace = True)\n",
    "df_naics = pd.read_csv(\"naics_data.csv\")\n",
    "df_naics['CITY'] = df_naics['PHYSICAL CITY NAME']\n",
    "df_naics.drop('PHYSICAL CITY NAME', axis = 1, inplace = True)\n",
    "df_naics.drop('Unnamed: 0', axis = 1, inplace = True)\n",
    "df_naics = df_naics.groupby('CITY').sum().reset_index()\n",
    "\n",
    "# display(df_demographic.head())\n",
    "# display(df_web_scrape.head())\n",
    "### time to join 'em all!\n",
    "df_joined = df_demographic.join(df_web_scrape.set_index('CITY'), on = \"CITY\", how = \"inner\")\n",
    "df_joined = df_joined.join(df_naics.set_index('CITY'), on = \"CITY\", how = \"inner\")\n",
    "df_joined = df_joined.join(cityNamesPredictions.set_index('CITY'), on = \"CITY\", how = \"inner\")\n",
    "display(df_joined.head())\n"
   ]
  },
  {
   "cell_type": "code",
   "execution_count": 38,
   "metadata": {
    "collapsed": false
   },
   "outputs": [
    {
     "data": {
      "text/html": [
       "<div>\n",
       "<table border=\"1\" class=\"dataframe\">\n",
       "  <thead>\n",
       "    <tr style=\"text-align: right;\">\n",
       "      <th></th>\n",
       "      <th>CITY</th>\n",
       "      <th>Land Area</th>\n",
       "      <th>Households with Under 18</th>\n",
       "      <th>Population Density</th>\n",
       "      <th>Total Families</th>\n",
       "      <th>2014 Estimate</th>\n",
       "      <th>2010 Census</th>\n",
       "      <th>SALES VOLUME</th>\n",
       "      <th>Predictions</th>\n",
       "    </tr>\n",
       "  </thead>\n",
       "  <tbody>\n",
       "    <tr>\n",
       "      <th>14</th>\n",
       "      <td>Cheyenne</td>\n",
       "      <td>1500.178400</td>\n",
       "      <td>7158</td>\n",
       "      <td>20.34</td>\n",
       "      <td>14612.64</td>\n",
       "      <td>62845</td>\n",
       "      <td>59466</td>\n",
       "      <td>1021000</td>\n",
       "      <td>999270.027682</td>\n",
       "    </tr>\n",
       "    <tr>\n",
       "      <th>52</th>\n",
       "      <td>Laramie</td>\n",
       "      <td>2513.745235</td>\n",
       "      <td>2075</td>\n",
       "      <td>5.19</td>\n",
       "      <td>4668.93</td>\n",
       "      <td>32081</td>\n",
       "      <td>30816</td>\n",
       "      <td>76000</td>\n",
       "      <td>819768.592076</td>\n",
       "    </tr>\n",
       "    <tr>\n",
       "      <th>79</th>\n",
       "      <td>Rock Springs</td>\n",
       "      <td>6620.201916</td>\n",
       "      <td>4022</td>\n",
       "      <td>2.78</td>\n",
       "      <td>7572.18</td>\n",
       "      <td>24045</td>\n",
       "      <td>23036</td>\n",
       "      <td>990000</td>\n",
       "      <td>561354.311075</td>\n",
       "    </tr>\n",
       "    <tr>\n",
       "      <th>33</th>\n",
       "      <td>Gillette</td>\n",
       "      <td>2748.852900</td>\n",
       "      <td>4052</td>\n",
       "      <td>5.80</td>\n",
       "      <td>7189.43</td>\n",
       "      <td>31971</td>\n",
       "      <td>29087</td>\n",
       "      <td>1130000</td>\n",
       "      <td>505704.040517</td>\n",
       "    </tr>\n",
       "    <tr>\n",
       "      <th>13</th>\n",
       "      <td>Casper</td>\n",
       "      <td>3894.309100</td>\n",
       "      <td>7788</td>\n",
       "      <td>11.16</td>\n",
       "      <td>8756.32</td>\n",
       "      <td>40086</td>\n",
       "      <td>35316</td>\n",
       "      <td>210000</td>\n",
       "      <td>325881.863642</td>\n",
       "    </tr>\n",
       "  </tbody>\n",
       "</table>\n",
       "</div>"
      ],
      "text/plain": [
       "            CITY    Land Area  Households with Under 18  Population Density  \\\n",
       "14      Cheyenne  1500.178400                      7158               20.34   \n",
       "52       Laramie  2513.745235                      2075                5.19   \n",
       "79  Rock Springs  6620.201916                      4022                2.78   \n",
       "33      Gillette  2748.852900                      4052                5.80   \n",
       "13        Casper  3894.309100                      7788               11.16   \n",
       "\n",
       "    Total Families  2014 Estimate  2010 Census  SALES VOLUME    Predictions  \n",
       "14        14612.64          62845        59466       1021000  999270.027682  \n",
       "52         4668.93          32081        30816         76000  819768.592076  \n",
       "79         7572.18          24045        23036        990000  561354.311075  \n",
       "33         7189.43          31971        29087       1130000  505704.040517  \n",
       "13         8756.32          40086        35316        210000  325881.863642  "
      ]
     },
     "metadata": {},
     "output_type": "display_data"
    }
   ],
   "source": [
    "df_joined.sort_values(by = \"Predictions\", axis=0, ascending=False, inplace=True, kind='quicksort')\n",
    "display(df_joined.head())"
   ]
  },
  {
   "cell_type": "markdown",
   "metadata": {
    "collapsed": true
   },
   "source": [
    "#### Looks good enough now, so let's filter the results to match our constraints!"
   ]
  },
  {
   "cell_type": "code",
   "execution_count": 39,
   "metadata": {
    "collapsed": false
   },
   "outputs": [
    {
     "data": {
      "text/html": [
       "<div>\n",
       "<table border=\"1\" class=\"dataframe\">\n",
       "  <thead>\n",
       "    <tr style=\"text-align: right;\">\n",
       "      <th></th>\n",
       "      <th>CITY</th>\n",
       "      <th>Land Area</th>\n",
       "      <th>Households with Under 18</th>\n",
       "      <th>Population Density</th>\n",
       "      <th>Total Families</th>\n",
       "      <th>2014 Estimate</th>\n",
       "      <th>2010 Census</th>\n",
       "      <th>SALES VOLUME</th>\n",
       "      <th>Predictions</th>\n",
       "    </tr>\n",
       "  </thead>\n",
       "  <tbody>\n",
       "    <tr>\n",
       "      <th>52</th>\n",
       "      <td>Laramie</td>\n",
       "      <td>2513.745235</td>\n",
       "      <td>2075</td>\n",
       "      <td>5.19</td>\n",
       "      <td>4668.93</td>\n",
       "      <td>32081</td>\n",
       "      <td>30816</td>\n",
       "      <td>76000</td>\n",
       "      <td>819768.592076</td>\n",
       "    </tr>\n",
       "    <tr>\n",
       "      <th>13</th>\n",
       "      <td>Casper</td>\n",
       "      <td>3894.309100</td>\n",
       "      <td>7788</td>\n",
       "      <td>11.16</td>\n",
       "      <td>8756.32</td>\n",
       "      <td>40086</td>\n",
       "      <td>35316</td>\n",
       "      <td>210000</td>\n",
       "      <td>325881.863642</td>\n",
       "    </tr>\n",
       "    <tr>\n",
       "      <th>29</th>\n",
       "      <td>Evanston</td>\n",
       "      <td>999.497100</td>\n",
       "      <td>1486</td>\n",
       "      <td>4.95</td>\n",
       "      <td>2712.64</td>\n",
       "      <td>12190</td>\n",
       "      <td>12359</td>\n",
       "      <td>89000</td>\n",
       "      <td>257317.552929</td>\n",
       "    </tr>\n",
       "    <tr>\n",
       "      <th>45</th>\n",
       "      <td>Jackson</td>\n",
       "      <td>1757.659200</td>\n",
       "      <td>1078</td>\n",
       "      <td>2.36</td>\n",
       "      <td>2313.08</td>\n",
       "      <td>10449</td>\n",
       "      <td>9577</td>\n",
       "      <td>182000</td>\n",
       "      <td>256399.912837</td>\n",
       "    </tr>\n",
       "  </tbody>\n",
       "</table>\n",
       "</div>"
      ],
      "text/plain": [
       "        CITY    Land Area  Households with Under 18  Population Density  \\\n",
       "52   Laramie  2513.745235                      2075                5.19   \n",
       "13    Casper  3894.309100                      7788               11.16   \n",
       "29  Evanston   999.497100                      1486                4.95   \n",
       "45   Jackson  1757.659200                      1078                2.36   \n",
       "\n",
       "    Total Families  2014 Estimate  2010 Census  SALES VOLUME    Predictions  \n",
       "52         4668.93          32081        30816         76000  819768.592076  \n",
       "13         8756.32          40086        35316        210000  325881.863642  \n",
       "29         2712.64          12190        12359         89000  257317.552929  \n",
       "45         2313.08          10449         9577        182000  256399.912837  "
      ]
     },
     "metadata": {},
     "output_type": "display_data"
    }
   ],
   "source": [
    "#1. The new store should be located in a new city. That means there should be no existing stores in the new city.\n",
    "#2. The total sales for the entire competition in the new city should be less than 500,000\n",
    "#3. The new city where you want to build your new store must have a population over 4,000 people (based upon the 2014 US Census estimate).\n",
    "#4. The predicted yearly sales must be over 200,000.\n",
    "#5. The city chosen has the highest predicted sales from the predicted set.\n",
    "maskNewCity = (~df_joined['CITY'].isin(citiesWithStores))\n",
    "maskTotalSalesCompetition = (df_joined['SALES VOLUME'] < 500000)\n",
    "maskPopulation = (df_joined['2014 Estimate'] > 4000)\n",
    "maskYearlySales = (df_joined['Predictions'] > 200000)\n",
    "df_masked = df_joined.loc[maskNewCity & maskTotalSalesCompetition & maskPopulation & maskYearlySales] #  \n",
    "display(df_masked)"
   ]
  },
  {
   "cell_type": "code",
   "execution_count": null,
   "metadata": {
    "collapsed": true
   },
   "outputs": [],
   "source": []
  }
 ],
 "metadata": {
  "kernelspec": {
   "display_name": "Python 2",
   "language": "python",
   "name": "python2"
  },
  "language_info": {
   "codemirror_mode": {
    "name": "ipython",
    "version": 2
   },
   "file_extension": ".py",
   "mimetype": "text/x-python",
   "name": "python",
   "nbconvert_exporter": "python",
   "pygments_lexer": "ipython2",
   "version": "2.7.10"
  }
 },
 "nbformat": 4,
 "nbformat_minor": 1
}
